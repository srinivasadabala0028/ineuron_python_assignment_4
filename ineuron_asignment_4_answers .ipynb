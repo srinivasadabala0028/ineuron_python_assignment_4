{
 "cells": [
  {
   "cell_type": "code",
   "execution_count": 1,
   "id": "eb1790a7",
   "metadata": {},
   "outputs": [
    {
     "name": "stdout",
     "output_type": "stream",
     "text": [
      "4\n",
      "24\n"
     ]
    }
   ],
   "source": [
    "# Q1 : Write a Python Program to Find the Factorial of a Number?\n",
    "import math \n",
    "a=int(input())\n",
    "print(math.factorial(a))"
   ]
  },
  {
   "cell_type": "code",
   "execution_count": 2,
   "id": "c759cf24",
   "metadata": {},
   "outputs": [
    {
     "name": "stdout",
     "output_type": "stream",
     "text": [
      "5\n",
      "0\n",
      "5\n",
      "10\n",
      "15\n",
      "20\n",
      "25\n",
      "30\n",
      "35\n",
      "40\n",
      "45\n",
      "50\n"
     ]
    }
   ],
   "source": [
    "# Q2:  Write a Python Program to Display the multiplication Table?\n",
    "b =int(input())\n",
    "for i in range(11):\n",
    "    print(b*i)"
   ]
  },
  {
   "cell_type": "code",
   "execution_count": 5,
   "id": "15730ab0",
   "metadata": {},
   "outputs": [
    {
     "name": "stdout",
     "output_type": "stream",
     "text": [
      "8\n",
      "0 1 1 2 3 5 8 13 "
     ]
    }
   ],
   "source": [
    "# Q3:Write a Python Program to Print the Fibonacci sequence?\n",
    "d = int(input())\n",
    "e = 0\n",
    "f=1 \n",
    "count=0\n",
    "if(d<0): \n",
    "    print(\"please enter positive numbers\")\n",
    "elif(d == 0): \n",
    "    print(\"the sequence is {0}\".format(e))\n",
    "else : \n",
    "    while count<d:\n",
    "        print(e, \"\", end=\"\")\n",
    "        h=e+f\n",
    "        e=f\n",
    "        f=h\n",
    "        count= count+1"
   ]
  },
  {
   "cell_type": "code",
   "execution_count": 6,
   "id": "db624366",
   "metadata": {},
   "outputs": [
    {
     "name": "stdout",
     "output_type": "stream",
     "text": [
      "153\n",
      "it is a armstrong number\n"
     ]
    }
   ],
   "source": [
    "# Q4:Write a Python Program to Check Armstrong Number?\n",
    " \n",
    "g = int(input())\n",
    "temp = g\n",
    "total=0\n",
    "while temp > 0 : \n",
    "    rem = temp%10 \n",
    "    total= total+ rem**3\n",
    "    temp= temp//10\n",
    "if(total==g): \n",
    "    print(\"it is a armstrong number\")\n",
    "else : \n",
    "    print(\"it is not a armstrong number\")\n"
   ]
  },
  {
   "cell_type": "code",
   "execution_count": 9,
   "id": "6a678315",
   "metadata": {},
   "outputs": [
    {
     "name": "stdout",
     "output_type": "stream",
     "text": [
      "16\n",
      "136\n"
     ]
    }
   ],
   "source": [
    "# Q6 : Write a Python Program to Find the Sum of Natural Numbers?\n",
    "r = int(input())\n",
    "totall=0\n",
    "for i in range(0,r+1,1):\n",
    "    totall= totall+i\n",
    "\n",
    "print(totall)\n"
   ]
  },
  {
   "cell_type": "code",
   "execution_count": 13,
   "id": "81c8f0b1",
   "metadata": {},
   "outputs": [
    {
     "name": "stdout",
     "output_type": "stream",
     "text": [
      "1\n",
      "2\n",
      "3\n",
      "4\n",
      "5\n",
      "6\n",
      "7\n",
      "8\n",
      "9\n",
      "153\n",
      "370\n",
      "371\n",
      "407\n",
      "1634\n",
      "8208\n",
      "9474\n",
      "54748\n",
      "92727\n",
      "93084\n"
     ]
    }
   ],
   "source": [
    "# Q5:Write a Python Program to Find Armstrong Number in an Interval?\n",
    "lower = 1\n",
    "upper = 100000\n",
    "\n",
    "for num in range(lower, upper + 1):\n",
    "\n",
    "\n",
    "   order = len(str(num))\n",
    "    \n",
    " \n",
    "   sum = 0\n",
    "\n",
    "   temp = num\n",
    "   while temp > 0:\n",
    "       digit = temp % 10\n",
    "       sum += digit ** order\n",
    "       temp //= 10\n",
    "\n",
    "   if num == sum:\n",
    "       print(num)"
   ]
  },
  {
   "cell_type": "code",
   "execution_count": null,
   "id": "f1bdd8c6",
   "metadata": {},
   "outputs": [],
   "source": []
  }
 ],
 "metadata": {
  "kernelspec": {
   "display_name": "Python 3 (ipykernel)",
   "language": "python",
   "name": "python3"
  },
  "language_info": {
   "codemirror_mode": {
    "name": "ipython",
    "version": 3
   },
   "file_extension": ".py",
   "mimetype": "text/x-python",
   "name": "python",
   "nbconvert_exporter": "python",
   "pygments_lexer": "ipython3",
   "version": "3.9.13"
  }
 },
 "nbformat": 4,
 "nbformat_minor": 5
}
